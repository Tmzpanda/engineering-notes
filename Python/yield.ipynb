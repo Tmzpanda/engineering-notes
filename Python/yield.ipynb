{
 "cells": [
  {
   "cell_type": "code",
   "execution_count": null,
   "id": "7af5b1f4",
   "metadata": {},
   "outputs": [],
   "source": [
    "# iterables\n",
    "\n",
    "\n",
    "# iterator\n",
    "# lazy evaluation\n",
    "# stream\n",
    "\n",
    "# generator\n",
    "\n"
   ]
  },
  {
   "cell_type": "markdown",
   "id": "a2054972",
   "metadata": {},
   "source": [
    "https://realpython.com/introduction-to-python-generators/"
   ]
  },
  {
   "cell_type": "code",
   "execution_count": null,
   "id": "106b8e88",
   "metadata": {},
   "outputs": [],
   "source": []
  },
  {
   "cell_type": "code",
   "execution_count": null,
   "id": "5d2152b8",
   "metadata": {},
   "outputs": [],
   "source": []
  },
  {
   "cell_type": "code",
   "execution_count": 61,
   "id": "87b8da7d",
   "metadata": {},
   "outputs": [
    {
     "data": {
      "text/plain": [
       "<generator object <genexpr> at 0x7fd640654580>"
      ]
     },
     "execution_count": 61,
     "metadata": {},
     "output_type": "execute_result"
    }
   ],
   "source": [
    "generator_1 = (x*x for x in range(3))\n",
    "generator_1"
   ]
  },
  {
   "cell_type": "code",
   "execution_count": 74,
   "id": "06257d9e",
   "metadata": {},
   "outputs": [
    {
     "data": {
      "text/plain": [
       "<generator object func at 0x7fd6406485f0>"
      ]
     },
     "execution_count": 74,
     "metadata": {},
     "output_type": "execute_result"
    }
   ],
   "source": [
    "def func(n):\n",
    "    for x in range(n):\n",
    "        yield x*x\n",
    "        \n",
    "generator_2 = func(3)\n",
    "generator_2"
   ]
  },
  {
   "cell_type": "code",
   "execution_count": 77,
   "id": "47f20a0d",
   "metadata": {
    "scrolled": true
   },
   "outputs": [
    {
     "data": {
      "text/plain": [
       "4"
      ]
     },
     "execution_count": 77,
     "metadata": {},
     "output_type": "execute_result"
    }
   ],
   "source": [
    "next(generator_2)"
   ]
  },
  {
   "cell_type": "code",
   "execution_count": null,
   "id": "277b2f72",
   "metadata": {},
   "outputs": [],
   "source": []
  },
  {
   "cell_type": "code",
   "execution_count": null,
   "id": "b51d0a84",
   "metadata": {},
   "outputs": [],
   "source": []
  }
 ],
 "metadata": {
  "kernelspec": {
   "display_name": "Python 3",
   "language": "python",
   "name": "python3"
  },
  "language_info": {
   "codemirror_mode": {
    "name": "ipython",
    "version": 3
   },
   "file_extension": ".py",
   "mimetype": "text/x-python",
   "name": "python",
   "nbconvert_exporter": "python",
   "pygments_lexer": "ipython3",
   "version": "3.8.8"
  }
 },
 "nbformat": 4,
 "nbformat_minor": 5
}
