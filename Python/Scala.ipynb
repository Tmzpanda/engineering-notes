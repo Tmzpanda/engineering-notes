{
 "cells": [
  {
   "cell_type": "code",
   "execution_count": null,
   "id": "f29dde19",
   "metadata": {},
   "outputs": [],
   "source": [
    "// 配置databricks library去测试dataflow"
   ]
  },
  {
   "cell_type": "code",
   "execution_count": null,
   "id": "ef2eb83b",
   "metadata": {},
   "outputs": [],
   "source": []
  },
  {
   "cell_type": "code",
   "execution_count": null,
   "id": "239d99e0",
   "metadata": {},
   "outputs": [],
   "source": [
    "// getArgs\n",
    "// Job[Config]"
   ]
  },
  {
   "cell_type": "code",
   "execution_count": null,
   "id": "a84fe711",
   "metadata": {},
   "outputs": [],
   "source": []
  },
  {
   "cell_type": "code",
   "execution_count": null,
   "id": "fb1597d1",
   "metadata": {},
   "outputs": [],
   "source": []
  },
  {
   "cell_type": "code",
   "execution_count": null,
   "id": "8cd05778",
   "metadata": {},
   "outputs": [],
   "source": [
    "// Option[T] = Some[T] or None\n",
    "// getOrElse"
   ]
  },
  {
   "cell_type": "code",
   "execution_count": null,
   "id": "32e41981",
   "metadata": {},
   "outputs": [],
   "source": []
  },
  {
   "cell_type": "code",
   "execution_count": null,
   "id": "26788611",
   "metadata": {},
   "outputs": [],
   "source": []
  },
  {
   "cell_type": "code",
   "execution_count": null,
   "id": "027ce0de",
   "metadata": {},
   "outputs": [],
   "source": [
    "// immutable\n",
    "// collection\n",
    "\n",
    "// List()\n",
    "// Array()\n",
    "\n",
    "// map \n",
    "// foreach\n"
   ]
  },
  {
   "cell_type": "code",
   "execution_count": null,
   "id": "26514e48",
   "metadata": {},
   "outputs": [],
   "source": [
    "// case class\n",
    "// class\n",
    "// object"
   ]
  },
  {
   "cell_type": "code",
   "execution_count": null,
   "id": "7bbd2f09",
   "metadata": {},
   "outputs": [],
   "source": []
  },
  {
   "cell_type": "code",
   "execution_count": null,
   "id": "a5c82e39",
   "metadata": {},
   "outputs": [],
   "source": []
  },
  {
   "cell_type": "code",
   "execution_count": null,
   "id": "68f234fd",
   "metadata": {},
   "outputs": [],
   "source": [
    "// tail recursion\n",
    "\n",
    "def factorial(n: Int): Int = {\n",
    "    \n",
    "    @tailrec // decorator\n",
    "    def tailRec(n: Int, acc: Int): Int = {\n",
    "        res if (n == 0) else tailRec(n - 1, acc * n)\n",
    "        \n",
    "    }\n",
    "    \n",
    "    tailRec(n, 1)\n",
    "}\n",
    "\n",
    "\n",
    "factorial(4)"
   ]
  },
  {
   "cell_type": "code",
   "execution_count": null,
   "id": "0fa16cdb",
   "metadata": {},
   "outputs": [],
   "source": []
  },
  {
   "cell_type": "code",
   "execution_count": null,
   "id": "c06e78b1",
   "metadata": {},
   "outputs": [],
   "source": []
  },
  {
   "cell_type": "code",
   "execution_count": null,
   "id": "8462ab99",
   "metadata": {},
   "outputs": [],
   "source": []
  },
  {
   "cell_type": "code",
   "execution_count": null,
   "id": "14667679",
   "metadata": {},
   "outputs": [],
   "source": []
  }
 ],
 "metadata": {
  "kernelspec": {
   "display_name": "spylon-kernel",
   "language": "scala",
   "name": "spylon-kernel"
  },
  "language_info": {
   "codemirror_mode": "text/x-scala",
   "file_extension": ".scala",
   "help_links": [
    {
     "text": "MetaKernel Magics",
     "url": "https://metakernel.readthedocs.io/en/latest/source/README.html"
    }
   ],
   "mimetype": "text/x-scala",
   "name": "scala",
   "pygments_lexer": "scala",
   "version": "0.4.1"
  }
 },
 "nbformat": 4,
 "nbformat_minor": 5
}
