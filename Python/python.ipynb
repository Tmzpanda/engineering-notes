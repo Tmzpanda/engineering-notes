{
 "cells": [
  {
   "cell_type": "code",
   "execution_count": 24,
   "id": "fde58c9c",
   "metadata": {},
   "outputs": [
    {
     "name": "stdout",
     "output_type": "stream",
     "text": [
      "credit_as_of_date is 2021-09-22\n",
      "2021-09-22 2021-09-22\n",
      "<class 'datetime.date'> <class 'str'>\n"
     ]
    }
   ],
   "source": [
    "from datetime import datetime, timedelta\n",
    "credit_as_of_date = datetime.today().date() - timedelta(days=5)\n",
    "print(f\"credit_as_of_date is {str(credit_as_of_date)}\")\n",
    "\n",
    "\n",
    "print(credit_as_of_date, str(credit_as_of_date))\n",
    "print(type(credit_as_of_date), type(str(credit_as_of_date)))"
   ]
  },
  {
   "cell_type": "code",
   "execution_count": 20,
   "id": "adba335b",
   "metadata": {},
   "outputs": [
    {
     "name": "stdout",
     "output_type": "stream",
     "text": [
      "False\n"
     ]
    }
   ],
   "source": [
    "print(f\"{'2021-09-22' == {credit_as_of_date}}\")"
   ]
  },
  {
   "cell_type": "code",
   "execution_count": 35,
   "id": "5d9aee65",
   "metadata": {},
   "outputs": [
    {
     "name": "stdout",
     "output_type": "stream",
     "text": [
      "<class 'datetime.date'> <class 'str'>\n",
      "2021-09-22, <class 'str'>, '2021-09-22', <class 'str'>, True, False\n"
     ]
    }
   ],
   "source": [
    "print(type(credit_as_of_date), type(str(credit_as_of_date)))\n",
    "print(f\"{str(credit_as_of_date)}, {type(str(credit_as_of_date))}, '2021-09-22', {type('2021-09-22')}, {type(str('2021-09-22')) == type(str(credit_as_of_date))}, {str('2021-09-22') == {str(credit_as_of_date)}}\")\n",
    "\n",
    "\n",
    "\n"
   ]
  },
  {
   "cell_type": "code",
   "execution_count": null,
   "id": "f0a8e9a4",
   "metadata": {},
   "outputs": [],
   "source": []
  },
  {
   "cell_type": "code",
   "execution_count": 21,
   "id": "69d92f4b",
   "metadata": {},
   "outputs": [],
   "source": [
    "\n",
    "\n",
    "\n",
    "def check(a, b, typee):\n",
    "    if typee == 'second_party':\n",
    "        if (a, b) not in ll:\n",
    "            pass\n",
    "        else:\n",
    "            print(\"validating...\")\n",
    "\n",
    "    else:\n",
    "        print(\"error\")\n",
    "\n",
    "        \n",
    "\n",
    "# def check(a, b, typee):\n",
    "#     if typee == 'second_party'and (a, b) in ll:\n",
    "#             print(\"validating...\")\n",
    "\n",
    "#     else:\n",
    "#         print(\"error\")       "
   ]
  },
  {
   "cell_type": "code",
   "execution_count": 22,
   "id": "6b3ea1b8",
   "metadata": {},
   "outputs": [],
   "source": [
    "ll = [('trans', 'chase')]\n",
    "a, b = 'tran', 'chase'\n",
    "typee = 'second_party'\n",
    "check(a, b, typee)"
   ]
  },
  {
   "cell_type": "code",
   "execution_count": null,
   "id": "f228c878",
   "metadata": {},
   "outputs": [],
   "source": [
    "from date"
   ]
  },
  {
   "cell_type": "code",
   "execution_count": null,
   "id": "e7a9cb5a",
   "metadata": {},
   "outputs": [],
   "source": []
  },
  {
   "cell_type": "code",
   "execution_count": 11,
   "id": "fe437b7b",
   "metadata": {},
   "outputs": [],
   "source": [
    "def test(arg):\n",
    "    if arg == 1:\n",
    "        pass\n",
    "        print(\"passed\")\n",
    "    else:\n",
    "        return"
   ]
  },
  {
   "cell_type": "code",
   "execution_count": 12,
   "id": "4297270d",
   "metadata": {},
   "outputs": [
    {
     "name": "stdout",
     "output_type": "stream",
     "text": [
      "passed\n",
      "[None]\n"
     ]
    }
   ],
   "source": [
    "l = []\n",
    "arg = 1\n",
    "l.append(test(arg))\n",
    "print(l)"
   ]
  },
  {
   "cell_type": "code",
   "execution_count": null,
   "id": "0e96e04f",
   "metadata": {},
   "outputs": [],
   "source": []
  },
  {
   "cell_type": "code",
   "execution_count": 9,
   "id": "a02cb5e2",
   "metadata": {},
   "outputs": [
    {
     "name": "stdout",
     "output_type": "stream",
     "text": [
      "success\n"
     ]
    },
    {
     "ename": "AttributeError",
     "evalue": "'dict' object has no attribute 'append'",
     "output_type": "error",
     "traceback": [
      "\u001b[0;31m---------------------------------------------------------------------------\u001b[0m",
      "\u001b[0;31mAttributeError\u001b[0m                            Traceback (most recent call last)",
      "\u001b[0;32m<ipython-input-9-3dd0c04c1a5e>\u001b[0m in \u001b[0;36m<module>\u001b[0;34m\u001b[0m\n\u001b[1;32m      4\u001b[0m \u001b[0mmapping2\u001b[0m \u001b[0;34m=\u001b[0m \u001b[0;34m{\u001b[0m\u001b[0;34m(\u001b[0m\u001b[0;34m\"Tim1\"\u001b[0m\u001b[0;34m,\u001b[0m \u001b[0;36m1\u001b[0m\u001b[0;34m)\u001b[0m\u001b[0;34m:\u001b[0m \u001b[0;34m\"CK\"\u001b[0m\u001b[0;34m}\u001b[0m\u001b[0;34m\u001b[0m\u001b[0;34m\u001b[0m\u001b[0m\n\u001b[1;32m      5\u001b[0m \u001b[0mmapping\u001b[0m\u001b[0;34m.\u001b[0m\u001b[0mkeys\u001b[0m\u001b[0;34m(\u001b[0m\u001b[0;34m)\u001b[0m\u001b[0;34m\u001b[0m\u001b[0;34m\u001b[0m\u001b[0m\n\u001b[0;32m----> 6\u001b[0;31m \u001b[0mmapping\u001b[0m\u001b[0;34m.\u001b[0m\u001b[0mappend\u001b[0m\u001b[0;34m(\u001b[0m\u001b[0mmapping2\u001b[0m\u001b[0;34m)\u001b[0m\u001b[0;34m\u001b[0m\u001b[0;34m\u001b[0m\u001b[0m\n\u001b[0m",
      "\u001b[0;31mAttributeError\u001b[0m: 'dict' object has no attribute 'append'"
     ]
    }
   ],
   "source": [
    "\n",
    "mapping = {(\"Tim\", 1): \"CK\"}\n",
    "if (\"Tim\", 1) in mapping:\n",
    "    print(\"success\")\n",
    "mapping2 = {(\"Tim1\", 1): \"CK\"}\n",
    "mapping.keys()\n",
    "mapping.append(mapping2)"
   ]
  },
  {
   "cell_type": "code",
   "execution_count": 6,
   "id": "4b955e50",
   "metadata": {},
   "outputs": [
    {
     "data": {
      "text/plain": [
       "[None]"
      ]
     },
     "execution_count": 6,
     "metadata": {},
     "output_type": "execute_result"
    }
   ],
   "source": [
    "a = 4\n",
    "res = []\n",
    "res.append(check(a))\n",
    "res"
   ]
  },
  {
   "cell_type": "code",
   "execution_count": null,
   "id": "d9964df5",
   "metadata": {},
   "outputs": [],
   "source": []
  },
  {
   "cell_type": "code",
   "execution_count": null,
   "id": "f6ddfcaa",
   "metadata": {},
   "outputs": [],
   "source": [
    "# __attribute__\n",
    "# env\n",
    "# os.\n",
    "# dir()"
   ]
  },
  {
   "cell_type": "code",
   "execution_count": null,
   "id": "ffe242d0",
   "metadata": {},
   "outputs": [],
   "source": [
    "# getArgs\n",
    "# match/reflection"
   ]
  },
  {
   "cell_type": "code",
   "execution_count": null,
   "id": "ecf5ed7c",
   "metadata": {},
   "outputs": [],
   "source": [
    "# exception\n",
    "# log\n",
    "# unittest"
   ]
  },
  {
   "cell_type": "code",
   "execution_count": null,
   "id": "0486693b",
   "metadata": {},
   "outputs": [],
   "source": [
    "# shell script调用python\n",
    "\"\"\"\"\n",
    "function get_conn_string() {\n",
    "python - << _END_\n",
    "import yaml\n",
    "with open('/opt/bone/conf/databone.yaml', 'r') as cfile:\n",
    "    conf = yaml.load(cfile)\n",
    "    domain = conf.get('kerberos', dict()).get('cm', dict()).get('domain_name', '')\n",
    "    hs2 = conf.get('hive', dict()).get('hiverserver2_load_balancer', '')\n",
    "# Build the path:\n",
    "print(\"-u jdbc:hive2://{0}/default;principal=hive/_HOST@{1}\".format(hs2, domain))\n",
    "_END_\n",
    "}\n",
    "alias kbeeline='beeline `get_conn_string`'\n",
    "\n",
    "\"\"\"\""
   ]
  },
  {
   "cell_type": "code",
   "execution_count": null,
   "id": "165608c5",
   "metadata": {},
   "outputs": [],
   "source": [
    "# python里调用sql\n",
    "# rolling view job trigger"
   ]
  },
  {
   "cell_type": "code",
   "execution_count": null,
   "id": "3f765fce",
   "metadata": {},
   "outputs": [],
   "source": []
  },
  {
   "cell_type": "code",
   "execution_count": null,
   "id": "7efd3ac1",
   "metadata": {},
   "outputs": [],
   "source": []
  },
  {
   "cell_type": "code",
   "execution_count": null,
   "id": "ac0b6373",
   "metadata": {},
   "outputs": [],
   "source": []
  },
  {
   "cell_type": "code",
   "execution_count": null,
   "id": "a259fb22",
   "metadata": {},
   "outputs": [],
   "source": []
  },
  {
   "cell_type": "code",
   "execution_count": null,
   "id": "b44083ac",
   "metadata": {},
   "outputs": [],
   "source": []
  },
  {
   "cell_type": "code",
   "execution_count": null,
   "id": "b667768a",
   "metadata": {},
   "outputs": [],
   "source": []
  },
  {
   "cell_type": "code",
   "execution_count": null,
   "id": "8867e5cb",
   "metadata": {},
   "outputs": [],
   "source": []
  },
  {
   "cell_type": "code",
   "execution_count": null,
   "id": "c160c8a9",
   "metadata": {},
   "outputs": [],
   "source": []
  },
  {
   "cell_type": "code",
   "execution_count": null,
   "id": "2fd24b92",
   "metadata": {},
   "outputs": [],
   "source": []
  },
  {
   "cell_type": "raw",
   "id": "01dd543e",
   "metadata": {},
   "source": [
    "libs\n",
    "\n",
    "fp\n",
    " \n",
    " - closure, decorator\n",
    " - lambda, pure, currying??\n",
    " - scope, unpacking operators\n",
    " - bottom-up top-down, backtrack\n",
    "\n",
    "oop\n",
    " - annonymous class??\n",
    "\n",
    "exception\n",
    "log"
   ]
  },
  {
   "cell_type": "markdown",
   "id": "13c13706",
   "metadata": {},
   "source": [
    "## fp"
   ]
  },
  {
   "cell_type": "code",
   "execution_count": 19,
   "id": "9a23ee9e",
   "metadata": {},
   "outputs": [],
   "source": [
    "# closure\n",
    "# nested function can access variables of the enclosing scope\n",
    "\n",
    "def func(p): # enclosing scope\n",
    "    \n",
    "    def dfs(p, memo): # closure \n",
    "        pass\n",
    "        return res\n",
    "    \n",
    "    return dfs(p, {})\n"
   ]
  },
  {
   "cell_type": "code",
   "execution_count": 20,
   "id": "b86c5839",
   "metadata": {},
   "outputs": [
    {
     "name": "stdout",
     "output_type": "stream",
     "text": [
      "Whee!\n"
     ]
    }
   ],
   "source": [
    "# Decorator\n",
    "# decorators wrap a function, modifying its behavior\n",
    "\n",
    "from datetime import datetime\n",
    "   \n",
    "def func_decorator(func):  # higher-order function\n",
    "    def wrapper():\n",
    "        if 9 <= datetime.now().hour < 23:\n",
    "            func()\n",
    "        else:\n",
    "            pass  \n",
    "\n",
    "    return wrapper # return the decorated function\n",
    "\n",
    "\n",
    "@func_decorator\n",
    "def say_whee():\n",
    "    print(\"Whee!\")\n",
    "    \n",
    "\n",
    "say_whee()"
   ]
  },
  {
   "cell_type": "code",
   "execution_count": 21,
   "id": "6efb6c45",
   "metadata": {},
   "outputs": [],
   "source": [
    "# lambda\n",
    "# anonymous function\n",
    "\n"
   ]
  },
  {
   "cell_type": "code",
   "execution_count": 22,
   "id": "8ab2abba",
   "metadata": {},
   "outputs": [],
   "source": [
    "# functional programming\n",
    "# functions are first-class objects\n",
    "\n"
   ]
  },
  {
   "cell_type": "code",
   "execution_count": 23,
   "id": "d9edc9e9",
   "metadata": {},
   "outputs": [],
   "source": [
    "# pure function\n",
    "# no dependencies or side effects on the overall program\n",
    "\n"
   ]
  },
  {
   "cell_type": "code",
   "execution_count": 24,
   "id": "2970ab31",
   "metadata": {},
   "outputs": [],
   "source": [
    "# deep copy\n",
    "# backtrack\n",
    "\n",
    "# parameter scope\n",
    "\n"
   ]
  },
  {
   "cell_type": "code",
   "execution_count": 25,
   "id": "7d7ad93a",
   "metadata": {},
   "outputs": [],
   "source": [
    "# unpacking operator\n",
    "# unpack iterable objects\n",
    "\n"
   ]
  },
  {
   "cell_type": "code",
   "execution_count": 31,
   "id": "5f8777d3",
   "metadata": {},
   "outputs": [
    {
     "data": {
      "text/plain": [
       "24"
      ]
     },
     "execution_count": 31,
     "metadata": {},
     "output_type": "execute_result"
    }
   ],
   "source": [
    "# tail recursion\n",
    "# nothing left to do after coming back from the recursive call\n",
    "\n",
    "def factorial(n):\n",
    "    return 1 if n == 0 else n * factorial(n - 1)\n",
    "\n",
    "\n",
    "def factorial(n):\n",
    "    \n",
    "    def tail_rec(n, acc): # optimized into iteration\n",
    "        return acc if n == 0 else tail_rec(n - 1, acc * n)\n",
    "    \n",
    "    return tail_rec(n, 1)\n",
    "        \n",
    "    \n",
    "factorial(4)\n"
   ]
  },
  {
   "cell_type": "code",
   "execution_count": 29,
   "id": "6b83c12a",
   "metadata": {
    "scrolled": true
   },
   "outputs": [],
   "source": [
    "# bottom-up vs top-down\n",
    "# backtrack\n",
    "\n"
   ]
  },
  {
   "cell_type": "code",
   "execution_count": null,
   "id": "0dbe0ae5",
   "metadata": {},
   "outputs": [],
   "source": [
    "# currying\n",
    "# higher-order function\n",
    "# break down a multi-arguments-function into a sequence of single-argument functions\n",
    "\n",
    "def compose(g, f):\n",
    "    def h(x)\n",
    "\n",
    "\n",
    "\n",
    "\n",
    "# decorator\n",
    "def func_decorator(func):  # higher-order function\n",
    "    def wrapper():\n",
    "        pass\n",
    "\n",
    "    return wrapper # return the decorated function\n",
    "\n",
    "\n",
    "@func_decorator\n",
    "def func():\n",
    "    pass\n",
    "\n",
    "\n",
    "\n",
    "# functools.partial"
   ]
  },
  {
   "cell_type": "code",
   "execution_count": 34,
   "id": "0e614bca",
   "metadata": {},
   "outputs": [
    {
     "data": {
      "text/plain": [
       "7"
      ]
     },
     "execution_count": 34,
     "metadata": {},
     "output_type": "execute_result"
    }
   ],
   "source": [
    "def add(a):\n",
    "    def add_a(b):\n",
    "        return a + b\n",
    "    return add_a\n",
    "add(3)(4)"
   ]
  },
  {
   "cell_type": "code",
   "execution_count": 33,
   "id": "d8274089",
   "metadata": {},
   "outputs": [
    {
     "ename": "NameError",
     "evalue": "name 'arr' is not defined",
     "output_type": "error",
     "traceback": [
      "\u001b[0;31m---------------------------------------------------------------------------\u001b[0m",
      "\u001b[0;31mNameError\u001b[0m                                 Traceback (most recent call last)",
      "\u001b[0;32m<ipython-input-33-95453ad2fe11>\u001b[0m in \u001b[0;36m<module>\u001b[0;34m\u001b[0m\n\u001b[1;32m      2\u001b[0m \u001b[0;34m\u001b[0m\u001b[0m\n\u001b[1;32m      3\u001b[0m \u001b[0;34m\u001b[0m\u001b[0m\n\u001b[0;32m----> 4\u001b[0;31m \u001b[0mreduce\u001b[0m\u001b[0;34m(\u001b[0m\u001b[0;32mlambda\u001b[0m \u001b[0mx\u001b[0m\u001b[0;34m,\u001b[0m \u001b[0my\u001b[0m\u001b[0;34m:\u001b[0m \u001b[0mx\u001b[0m \u001b[0;34m+\u001b[0m \u001b[0my\u001b[0m\u001b[0;34m,\u001b[0m \u001b[0marr\u001b[0m\u001b[0;34m)\u001b[0m\u001b[0;34m\u001b[0m\u001b[0;34m\u001b[0m\u001b[0m\n\u001b[0m",
      "\u001b[0;31mNameError\u001b[0m: name 'arr' is not defined"
     ]
    }
   ],
   "source": [
    "from functools import reduce, partial\n",
    "\n",
    "\n",
    "reduce(lambda x, y: x + y, arr)"
   ]
  },
  {
   "cell_type": "code",
   "execution_count": null,
   "id": "ebbad8df",
   "metadata": {},
   "outputs": [],
   "source": []
  },
  {
   "cell_type": "markdown",
   "id": "659b6b60",
   "metadata": {},
   "source": [
    "## oop"
   ]
  },
  {
   "cell_type": "code",
   "execution_count": null,
   "id": "afc27788",
   "metadata": {},
   "outputs": [],
   "source": [
    "# annonymous class\n",
    "# scala"
   ]
  },
  {
   "cell_type": "code",
   "execution_count": null,
   "id": "54bccc8d",
   "metadata": {},
   "outputs": [],
   "source": []
  },
  {
   "cell_type": "code",
   "execution_count": null,
   "id": "f6d210ac",
   "metadata": {},
   "outputs": [],
   "source": []
  },
  {
   "cell_type": "code",
   "execution_count": 3,
   "id": "3ca01f9f",
   "metadata": {},
   "outputs": [
    {
     "ename": "ModuleNotFoundError",
     "evalue": "No module named 'pyspark'",
     "output_type": "error",
     "traceback": [
      "\u001b[0;31m---------------------------------------------------------------------------\u001b[0m",
      "\u001b[0;31mModuleNotFoundError\u001b[0m                       Traceback (most recent call last)",
      "\u001b[0;32m<ipython-input-3-49d7c4e178f8>\u001b[0m in \u001b[0;36m<module>\u001b[0;34m\u001b[0m\n\u001b[0;32m----> 1\u001b[0;31m \u001b[0;32mimport\u001b[0m \u001b[0mpyspark\u001b[0m\u001b[0;34m\u001b[0m\u001b[0;34m\u001b[0m\u001b[0m\n\u001b[0m",
      "\u001b[0;31mModuleNotFoundError\u001b[0m: No module named 'pyspark'"
     ]
    }
   ],
   "source": []
  },
  {
   "cell_type": "code",
   "execution_count": null,
   "id": "d413c379",
   "metadata": {},
   "outputs": [],
   "source": []
  }
 ],
 "metadata": {
  "kernelspec": {
   "display_name": "Python 3",
   "language": "python",
   "name": "python3"
  },
  "language_info": {
   "codemirror_mode": {
    "name": "ipython",
    "version": 3
   },
   "file_extension": ".py",
   "mimetype": "text/x-python",
   "name": "python",
   "nbconvert_exporter": "python",
   "pygments_lexer": "ipython3",
   "version": "3.8.8"
  }
 },
 "nbformat": 4,
 "nbformat_minor": 5
}
