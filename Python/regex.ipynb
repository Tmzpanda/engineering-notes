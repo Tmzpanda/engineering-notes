import re

text = "Name: John, Age: 25, Country: USA\nName: Jane, Age: 30, Country: Canada"
pattern = r"Name: (\w+), Age: (\d+), Country: (\w+)"
records = re.findall(pattern, text)  // [('John', '25', 'USA'), ('Jane', '30', 'Canada')]
